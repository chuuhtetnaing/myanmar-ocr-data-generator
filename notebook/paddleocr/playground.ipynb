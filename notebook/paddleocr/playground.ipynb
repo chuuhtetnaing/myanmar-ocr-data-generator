{
 "cells": [
  {
   "cell_type": "code",
   "id": "initial_id",
   "metadata": {
    "collapsed": true,
    "ExecuteTime": {
     "end_time": "2025-03-26T11:50:06.444149Z",
     "start_time": "2025-03-26T11:50:06.442153Z"
    }
   },
   "source": [
    "aa = ['တနင်္လာနေ့တွင်',\n",
    "      'စတန်းဖို့ဒ်တက္ကသိုလ်',\n",
    "      'ဆေးကျောင်းမှ', 'ဆေး', 'ကျောင်း', 'မှ']"
   ],
   "outputs": [],
   "execution_count": 9
  },
  {
   "metadata": {
    "ExecuteTime": {
     "end_time": "2025-03-26T11:50:07.878921Z",
     "start_time": "2025-03-26T11:50:07.874316Z"
    }
   },
   "cell_type": "code",
   "source": "set(aa)",
   "id": "d8ef5f0a13dcf374",
   "outputs": [
    {
     "data": {
      "text/plain": [
       "{'ကျောင်း',\n",
       " 'စတန်းဖို့ဒ်တက္ကသိုလ်',\n",
       " 'ဆေး',\n",
       " 'ဆေးကျောင်းမှ',\n",
       " 'တနင်္လာနေ့တွင်',\n",
       " 'မှ'}"
      ]
     },
     "execution_count": 10,
     "metadata": {},
     "output_type": "execute_result"
    }
   ],
   "execution_count": 10
  },
  {
   "metadata": {},
   "cell_type": "code",
   "outputs": [],
   "execution_count": null,
   "source": "",
   "id": "790fa2762e5e4b4c"
  }
 ],
 "metadata": {
  "kernelspec": {
   "display_name": "Python 3",
   "language": "python",
   "name": "python3"
  },
  "language_info": {
   "codemirror_mode": {
    "name": "ipython",
    "version": 2
   },
   "file_extension": ".py",
   "mimetype": "text/x-python",
   "name": "python",
   "nbconvert_exporter": "python",
   "pygments_lexer": "ipython2",
   "version": "2.7.6"
  }
 },
 "nbformat": 4,
 "nbformat_minor": 5
}
