{
 "cells": [
  {
   "metadata": {
    "ExecuteTime": {
     "end_time": "2025-03-26T15:14:16.441495Z",
     "start_time": "2025-03-26T15:14:16.258691Z"
    }
   },
   "cell_type": "code",
   "source": [
    "import random\n",
    "from trdg.generators import GeneratorFromStrings\n",
    "import multiprocessing as mp\n",
    "import os\n",
    "import uuid\n",
    "from functools import partial\n",
    "\n",
    "# python3 run.py -c 10 -w 5 -f 64 -l my"
   ],
   "id": "8925fa5ad5c90a61",
   "outputs": [
    {
     "name": "stdout",
     "output_type": "stream",
     "text": [
      "Missing modules for handwritten text generation.\n"
     ]
    }
   ],
   "execution_count": 1
  },
  {
   "cell_type": "code",
   "id": "initial_id",
   "metadata": {
    "collapsed": true,
    "ExecuteTime": {
     "end_time": "2025-03-26T15:14:17.807958Z",
     "start_time": "2025-03-26T15:14:17.806311Z"
    }
   },
   "source": [
    "# Generate images from a Myanmar dictionary\n",
    "\n",
    "strings = [\"ဂရိဒဏ္ဍာရီ\", \"သည်\", \"ရှေးခေတ်ဂရိလူမျိုးများ\", \"မူလအနေဖြင့်\", \"ပြောဆိုခဲ့ကြသော\", \"ဒဏ္ဍာရီ\"]"
   ],
   "outputs": [],
   "execution_count": 2
  },
  {
   "metadata": {},
   "cell_type": "markdown",
   "source": "# Code Snippet for Generating Images",
   "id": "35faa9e7265c45ca"
  },
  {
   "metadata": {},
   "cell_type": "markdown",
   "source": "## Generate Simple Images",
   "id": "47a74b251c3d56c2"
  },
  {
   "metadata": {
    "ExecuteTime": {
     "end_time": "2025-03-26T15:14:18.816240Z",
     "start_time": "2025-03-26T15:14:18.796470Z"
    }
   },
   "cell_type": "code",
   "source": [
    "generator = GeneratorFromStrings(\n",
    "    strings = strings,\n",
    "    language='my',\n",
    "    count = len(strings)\n",
    ")\n",
    "\n",
    "# Generate your text images\n",
    "for img, lbl in generator:\n",
    "    # Do something with the generated image and label\n",
    "    img.save(f\"images/{str(uuid.uuid4())}.jpg\")"
   ],
   "id": "9e7680a9c82a9fb2",
   "outputs": [],
   "execution_count": 3
  },
  {
   "metadata": {},
   "cell_type": "markdown",
   "source": "## Generate Skewed Images",
   "id": "efeba5f322e4f2c3"
  },
  {
   "metadata": {
    "ExecuteTime": {
     "end_time": "2025-03-26T15:14:19.065910Z",
     "start_time": "2025-03-26T15:14:19.050821Z"
    }
   },
   "cell_type": "code",
   "source": [
    "generator = GeneratorFromStrings(\n",
    "    strings = strings,\n",
    "    language='my',\n",
    "    count = len(strings),\n",
    "    skewing_angle=5, # Define skewing angle of the generated text. In positive degrees\n",
    "    random_skew=True, # When set, the skew angle will be randomized between the value set with -k and it's opposite\n",
    ")\n",
    "\n",
    "# Generate your text images\n",
    "for img, lbl in generator:\n",
    "    # Do something with the generated image and label\n",
    "    img.save(f\"images/{str(uuid.uuid4())}.jpg\")"
   ],
   "id": "a1200a85d51599c3",
   "outputs": [],
   "execution_count": 4
  },
  {
   "metadata": {},
   "cell_type": "markdown",
   "source": "## Generate Distorsion Images",
   "id": "2c97b6021615e262"
  },
  {
   "metadata": {
    "ExecuteTime": {
     "end_time": "2025-03-26T15:14:19.319944Z",
     "start_time": "2025-03-26T15:14:19.302413Z"
    }
   },
   "cell_type": "code",
   "source": [
    "generator = GeneratorFromStrings(\n",
    "    strings = strings,\n",
    "    language='my',\n",
    "    count = len(strings),\n",
    "    distorsion_type=3, # 0: None (Default), 1: Sine wave, 2: Cosine wave, 3: Random\n",
    "    distorsion_orientation=random.randint(0, 2) # 0: Vertical (Up and down), 1: Horizontal (Left and Right), 2: Both\n",
    ")\n",
    "\n",
    "# Generate your text images\n",
    "for img, lbl in generator:\n",
    "    # Do something with the generated image and label\n",
    "    img.save(f\"images/{str(uuid.uuid4())}.jpg\")"
   ],
   "id": "6ae017ca7a7b7ced",
   "outputs": [],
   "execution_count": 5
  },
  {
   "metadata": {
    "ExecuteTime": {
     "end_time": "2025-03-26T15:14:19.432970Z",
     "start_time": "2025-03-26T15:14:19.431504Z"
    }
   },
   "cell_type": "code",
   "source": "",
   "id": "659925594ca7e01d",
   "outputs": [],
   "execution_count": null
  },
  {
   "metadata": {},
   "cell_type": "markdown",
   "source": "## Generate Blur Images",
   "id": "20ef4cf134eaa63"
  },
  {
   "metadata": {
    "ExecuteTime": {
     "end_time": "2025-03-26T15:14:19.718636Z",
     "start_time": "2025-03-26T15:14:19.703181Z"
    }
   },
   "cell_type": "code",
   "source": [
    "generator = GeneratorFromStrings(\n",
    "    strings = strings,\n",
    "    language='my',\n",
    "    count = len(strings),\n",
    "    blur=random.randint(0, 4), # gaussian blur (here 0, 1, 2, 4):\n",
    "    random_blur=True\n",
    ")\n",
    "\n",
    "# Generate your text images\n",
    "for img, lbl in generator:\n",
    "    # Do something with the generated image and label\n",
    "    img.save(f\"images/{str(uuid.uuid4())}.jpg\")"
   ],
   "id": "2888bd670d1e644",
   "outputs": [],
   "execution_count": 6
  },
  {
   "metadata": {
    "ExecuteTime": {
     "end_time": "2025-03-26T15:14:19.849173Z",
     "start_time": "2025-03-26T15:14:19.847773Z"
    }
   },
   "cell_type": "code",
   "source": "",
   "id": "5501010a922baf9f",
   "outputs": [],
   "execution_count": null
  },
  {
   "metadata": {
    "ExecuteTime": {
     "end_time": "2025-03-26T15:14:20.298791Z",
     "start_time": "2025-03-26T15:14:20.297390Z"
    }
   },
   "cell_type": "code",
   "source": "",
   "id": "3a82b1c08e361c6c",
   "outputs": [],
   "execution_count": null
  },
  {
   "metadata": {},
   "cell_type": "markdown",
   "source": "## Generate Images with Background",
   "id": "1e97a150a50dae24"
  },
  {
   "metadata": {
    "ExecuteTime": {
     "end_time": "2025-03-26T15:14:20.983594Z",
     "start_time": "2025-03-26T15:14:20.969428Z"
    }
   },
   "cell_type": "code",
   "source": [
    "generator = GeneratorFromStrings(\n",
    "    strings = strings,\n",
    "    language='my',\n",
    "    count = len(strings),\n",
    "    background_type=random.randint(0, 3), # gaussian noise (0), plain white (1), quasicrystal (2) or image (3)\n",
    ")\n",
    "\n",
    "# Generate your text images\n",
    "for img, lbl in generator:\n",
    "    # Do something with the generated image and label\n",
    "    img.save(f\"images/{str(uuid.uuid4())}.jpg\")"
   ],
   "id": "d84bc2050a42c830",
   "outputs": [],
   "execution_count": 7
  },
  {
   "metadata": {
    "ExecuteTime": {
     "end_time": "2025-03-26T15:14:21.356128Z",
     "start_time": "2025-03-26T15:14:21.354689Z"
    }
   },
   "cell_type": "code",
   "source": "",
   "id": "49891efb843ccad0",
   "outputs": [],
   "execution_count": null
  },
  {
   "metadata": {},
   "cell_type": "markdown",
   "source": [
    "# Generate Images\n",
    "\n",
    "**Plan**\n",
    "- Simple Images (All-2.5M)\n",
    "- Skewed Images (100K)\n",
    "- Distorision\n",
    "    - 10K (distorsion_type: 1, distorsion_orientation: 0)\n",
    "    - 10K (distorsion_type: 1, distorsion_orientation: 1)\n",
    "    - 10K (distorsion_type: 1, distorsion_orientation: 2)\n",
    "    - 10K (distorsion_type: 2, distorsion_orientation: 0)\n",
    "    - 10K (distorsion_type: 2, distorsion_orientation: 1)\n",
    "    - 10K (distorsion_type: 2, distorsion_orientation: 2)\n",
    "    - 10K (distorsion_type: 3, distorsion_orientation: 0)\n",
    "    - 10K (distorsion_type: 3, distorsion_orientation: 1)\n",
    "    - 10K (distorsion_type: 3, distorsion_orientation: 2)\n",
    "- Blur\n",
    "    - 25K (blur: 0)\n",
    "    - 25K (blur: 1)\n",
    "    - 25K (blur: 2)\n",
    "    - 25K (blur: 4)\n",
    "- Background\n",
    "    - 25K (background_type: 0)\n",
    "    - 25K (background_type: 1)\n",
    "    - 25K (background_type: 2)\n",
    "    - 25K (background_type: 3)\n"
   ],
   "id": "290e5d36b88dd628"
  },
  {
   "metadata": {},
   "cell_type": "markdown",
   "source": "## Multiprocessing Functions",
   "id": "7d2d9cfddf2a614e"
  },
  {
   "metadata": {
    "ExecuteTime": {
     "end_time": "2025-03-26T15:14:24.168753Z",
     "start_time": "2025-03-26T15:14:24.166963Z"
    }
   },
   "cell_type": "code",
   "source": "import random",
   "id": "b219800abb2afb84",
   "outputs": [],
   "execution_count": 8
  },
  {
   "metadata": {
    "ExecuteTime": {
     "end_time": "2025-03-26T15:14:30.182891Z",
     "start_time": "2025-03-26T15:14:29.556308Z"
    }
   },
   "cell_type": "code",
   "source": [
    "with open(\"data/my_corpus.txt\") as file:\n",
    "    my_corpus = file.read().split(\"\\n\")"
   ],
   "id": "512293b3f304c3db",
   "outputs": [],
   "execution_count": 9
  },
  {
   "metadata": {
    "ExecuteTime": {
     "end_time": "2025-03-26T15:14:31.071174Z",
     "start_time": "2025-03-26T15:14:31.068948Z"
    }
   },
   "cell_type": "code",
   "source": [
    "def shuffle_and_split(data, train_ratio=0.9):\n",
    "    # Create a copy of the list to avoid modifying the original\n",
    "    shuffled_data = data.copy()\n",
    "\n",
    "    # Shuffle the list in place\n",
    "    random.shuffle(shuffled_data)\n",
    "\n",
    "    # Calculate the split point\n",
    "    split_point = int(len(shuffled_data) * train_ratio)\n",
    "\n",
    "    # Split the list into training and test sets\n",
    "    train_set = shuffled_data[:split_point]\n",
    "    test_set = shuffled_data[split_point:]\n",
    "\n",
    "    return train_set, test_set"
   ],
   "id": "a648a0d552b9fd08",
   "outputs": [],
   "execution_count": 10
  },
  {
   "metadata": {
    "ExecuteTime": {
     "end_time": "2025-03-26T15:14:34.447961Z",
     "start_time": "2025-03-26T15:14:33.458330Z"
    }
   },
   "cell_type": "code",
   "source": "my_corpus_train, my_corpus_test = shuffle_and_split(my_corpus)",
   "id": "4b0d9fafdf2943c9",
   "outputs": [],
   "execution_count": 11
  },
  {
   "metadata": {
    "ExecuteTime": {
     "end_time": "2025-03-26T15:14:34.785591Z",
     "start_time": "2025-03-26T15:14:34.783547Z"
    }
   },
   "cell_type": "code",
   "source": "print(len(my_corpus), len(my_corpus_train), len(my_corpus_test))",
   "id": "c2a86d0cf8befed4",
   "outputs": [
    {
     "name": "stdout",
     "output_type": "stream",
     "text": [
      "2737935 2464141 273794\n"
     ]
    }
   ],
   "execution_count": 12
  },
  {
   "metadata": {
    "ExecuteTime": {
     "end_time": "2025-03-26T15:14:44.629914Z",
     "start_time": "2025-03-26T15:14:44.099295Z"
    }
   },
   "cell_type": "code",
   "source": [
    "with open(\"data/my_corpus_train.txt\", \"w\") as file:\n",
    "    file.write(\"\\n\".join(my_corpus_train))\n",
    "\n",
    "with open(\"data/my_corpus_test.txt\", \"w\") as file:\n",
    "    file.write(\"\\n\".join(my_corpus_test))"
   ],
   "id": "a4f8e08e087b43d",
   "outputs": [],
   "execution_count": 13
  },
  {
   "metadata": {
    "ExecuteTime": {
     "end_time": "2025-03-26T14:37:16.407894Z",
     "start_time": "2025-03-26T14:37:16.406482Z"
    }
   },
   "cell_type": "code",
   "source": "",
   "id": "5251b69781475ee1",
   "outputs": [],
   "execution_count": null
  },
  {
   "metadata": {
    "ExecuteTime": {
     "end_time": "2025-03-26T14:37:16.664574Z",
     "start_time": "2025-03-26T14:37:16.663044Z"
    }
   },
   "cell_type": "code",
   "source": [
    "# with open(\"data/my_corpus_test.txt\", \"w\") as file:\n",
    "#     file.write(\"\\n\".join(my_corpus[:100]))\n",
    "#\n",
    "# with open(\"data/my_corpus_test.txt\") as file:\n",
    "#     my_corpus = file.read().split(\"\\n\")"
   ],
   "id": "3cb36b2a6ca10de4",
   "outputs": [],
   "execution_count": 13
  },
  {
   "metadata": {
    "ExecuteTime": {
     "end_time": "2025-03-26T13:28:08.299691Z",
     "start_time": "2025-03-26T13:28:08.297644Z"
    }
   },
   "cell_type": "code",
   "source": "",
   "id": "4927ce6093f7198a",
   "outputs": [],
   "execution_count": 2
  },
  {
   "metadata": {
    "ExecuteTime": {
     "end_time": "2025-03-26T14:37:26.579755Z",
     "start_time": "2025-03-26T14:37:26.578269Z"
    }
   },
   "cell_type": "code",
   "source": "",
   "id": "7a1cdd0def0d9a20",
   "outputs": [],
   "execution_count": null
  },
  {
   "metadata": {},
   "cell_type": "code",
   "outputs": [],
   "execution_count": null,
   "source": "",
   "id": "258c35ec99a53044"
  },
  {
   "metadata": {},
   "cell_type": "code",
   "outputs": [],
   "execution_count": null,
   "source": "",
   "id": "4acfd7238c0d569e"
  },
  {
   "metadata": {
    "ExecuteTime": {
     "end_time": "2025-03-26T15:14:49.541978Z",
     "start_time": "2025-03-26T15:14:49.540302Z"
    }
   },
   "cell_type": "code",
   "source": "root_dir=\"dataset\"",
   "id": "ad54bd9c4e24b171",
   "outputs": [],
   "execution_count": 14
  },
  {
   "metadata": {
    "ExecuteTime": {
     "end_time": "2025-03-26T15:14:50.155166Z",
     "start_time": "2025-03-26T15:14:50.071342Z"
    }
   },
   "cell_type": "code",
   "source": [
    "def process_string(output_dir, dataset_type, param_dict, string):\n",
    "    # Create a generator for a single string\n",
    "    generator = GeneratorFromStrings(\n",
    "        strings=[string],  # Wrap the string in a list\n",
    "        language='my',\n",
    "        count=1,  # Generate one image for this string\n",
    "        **param_dict\n",
    "    )\n",
    "\n",
    "    # Get the generated item\n",
    "    try:\n",
    "        item = next(generator)\n",
    "        img, lbl = item\n",
    "\n",
    "        # Skip if image is None\n",
    "        if img is None:\n",
    "            return None, lbl\n",
    "\n",
    "        # Create a unique filename\n",
    "        img_filename = f\"{str(uuid.uuid4())}.jpg\"\n",
    "        img_path = os.path.join(output_dir, img_filename)\n",
    "\n",
    "        # Save the image\n",
    "        img.save(img_path)\n",
    "\n",
    "        # Write annotation to file (in a thread-safe way)\n",
    "        annotations_file = os.path.join(root_dir, f\"{dataset_type}.txt\")\n",
    "        with open(annotations_file, 'a') as f:\n",
    "            f.write(f\"{dataset_type}/{img_filename}\\t{lbl}\\n\")\n",
    "\n",
    "        return img_path, lbl\n",
    "    except Exception as e:\n",
    "        print(f\"Error processing string '{string}': {str(e)}\")\n",
    "        return None, string\n",
    "\n",
    "def generate_images_parallel(corpus, output_dir, dataset_type, image_params, num_processes=None):\n",
    "    # Create a pool of workers\n",
    "    pool = mp.Pool(processes=num_processes or mp.cpu_count())\n",
    "\n",
    "    # Create a partial function with fixed arguments\n",
    "    process_func = partial(process_string, output_dir, dataset_type, image_params)\n",
    "\n",
    "    # Process strings in parallel\n",
    "    results = pool.map(process_func, corpus)\n",
    "\n",
    "    # Close the pool\n",
    "    pool.close()\n",
    "    pool.join()\n",
    "\n",
    "    # Count successful generations\n",
    "    successful = sum(1 for r in results if r[0] is not None)\n",
    "    print(f\"Generated {successful} images with annotations in {dataset_type}\")\n",
    "\n"
   ],
   "id": "ee09891265dec74e",
   "outputs": [],
   "execution_count": 15
  },
  {
   "metadata": {
    "ExecuteTime": {
     "end_time": "2025-03-26T15:14:50.966898Z",
     "start_time": "2025-03-26T15:14:50.965513Z"
    }
   },
   "cell_type": "code",
   "source": "",
   "id": "d52efee859fc6e75",
   "outputs": [],
   "execution_count": null
  },
  {
   "metadata": {},
   "cell_type": "markdown",
   "source": "# Generate Train Images",
   "id": "4339fad05add8cbc"
  },
  {
   "metadata": {
    "ExecuteTime": {
     "end_time": "2025-03-26T15:15:15.300440Z",
     "start_time": "2025-03-26T15:15:14.688974Z"
    }
   },
   "cell_type": "code",
   "source": [
    "dataset_type = \"train\"\n",
    "output_dir = root_dir + f\"/{dataset_type}\"\n",
    "os.makedirs(root_dir, exist_ok=True)\n",
    "os.makedirs(output_dir, exist_ok=True)\n",
    "\n",
    "# Path for annotations file\n",
    "annotations_file = os.path.join(root_dir, f\"{dataset_type}.txt\")\n",
    "\n",
    "# Clear annotations file if it exists\n",
    "with open(annotations_file, 'w') as f:\n",
    "    pass\n",
    "\n",
    "with open(\"data/my_corpus_train.txt\") as file:\n",
    "    my_corpus = file.read().split(\"\\n\")"
   ],
   "id": "a6fe4140565dab64",
   "outputs": [],
   "execution_count": 17
  },
  {
   "metadata": {},
   "cell_type": "markdown",
   "source": "## Simple Images",
   "id": "31f9f52ed62190a7"
  },
  {
   "metadata": {
    "jupyter": {
     "is_executing": true
    },
    "ExecuteTime": {
     "start_time": "2025-03-26T15:15:27.949398Z"
    }
   },
   "cell_type": "code",
   "source": [
    "image_params = {\n",
    "    \"skewing_angle\": 0,\n",
    "    \"random_skew\": False,\n",
    "    \"distorsion_type\": 0,\n",
    "    \"distorsion_orientation\": 0,\n",
    "    \"blur\": 0,\n",
    "    \"random_blur\": False,\n",
    "    \"background_type\": 0\n",
    "}\n",
    "\n",
    "generate_images_parallel(my_corpus, output_dir, dataset_type, image_params)"
   ],
   "id": "ef70e49949c2211a",
   "outputs": [],
   "execution_count": null
  },
  {
   "metadata": {},
   "cell_type": "markdown",
   "source": "## Skew Images",
   "id": "852d22a44011e465"
  },
  {
   "metadata": {},
   "cell_type": "code",
   "outputs": [],
   "execution_count": null,
   "source": [
    "image_params = {\n",
    "    \"skewing_angle\": 5,\n",
    "    \"random_skew\": True,\n",
    "    \"distorsion_type\": 0,\n",
    "    \"distorsion_orientation\": 0,\n",
    "    \"blur\": 0,\n",
    "    \"random_blur\": False,\n",
    "    \"background_type\": 0\n",
    "}\n",
    "\n",
    "random.shuffle(my_corpus)\n",
    "\n",
    "generate_images_parallel(my_corpus[:100_000], output_dir, dataset_type, image_params)"
   ],
   "id": "822d72d8349ef695"
  },
  {
   "metadata": {},
   "cell_type": "code",
   "outputs": [],
   "execution_count": null,
   "source": "",
   "id": "759232972fc10afe"
  },
  {
   "metadata": {},
   "cell_type": "markdown",
   "source": "## Distorsion Images",
   "id": "b00eaf3c06641c0a"
  },
  {
   "metadata": {},
   "cell_type": "markdown",
   "source": "### 1. (distorsion_type: 1, distorsion_orientation: 0)",
   "id": "306af646aafaf810"
  },
  {
   "metadata": {},
   "cell_type": "code",
   "outputs": [],
   "execution_count": null,
   "source": [
    "image_params = {\n",
    "    \"skewing_angle\": 5,\n",
    "    \"random_skew\": True,\n",
    "    \"distorsion_type\": 1,\n",
    "    \"distorsion_orientation\": 0,\n",
    "    \"blur\": 0,\n",
    "    \"random_blur\": False,\n",
    "    \"background_type\": 0\n",
    "}\n",
    "\n",
    "random.shuffle(my_corpus)\n",
    "\n",
    "generate_images_parallel(my_corpus[:10_000], output_dir, dataset_type, image_params)"
   ],
   "id": "b97158c555c25315"
  },
  {
   "metadata": {},
   "cell_type": "markdown",
   "source": "### 2. (distorsion_type: 1, distorsion_orientation: 1)",
   "id": "3ffbeec16e98fecf"
  },
  {
   "metadata": {},
   "cell_type": "code",
   "outputs": [],
   "execution_count": null,
   "source": [
    "image_params = {\n",
    "    \"skewing_angle\": 5,\n",
    "    \"random_skew\": True,\n",
    "    \"distorsion_type\": 1,\n",
    "    \"distorsion_orientation\": 1,\n",
    "    \"blur\": 0,\n",
    "    \"random_blur\": False,\n",
    "    \"background_type\": 0\n",
    "}\n",
    "\n",
    "random.shuffle(my_corpus)\n",
    "\n",
    "generate_images_parallel(my_corpus[:10_000], output_dir, dataset_type, image_params)"
   ],
   "id": "85738ab6d654e170"
  },
  {
   "metadata": {},
   "cell_type": "markdown",
   "source": "### 3. (distorsion_type: 1, distorsion_orientation: 2)",
   "id": "3f938c35c2030337"
  },
  {
   "metadata": {},
   "cell_type": "code",
   "outputs": [],
   "execution_count": null,
   "source": [
    "image_params = {\n",
    "    \"skewing_angle\": 5,\n",
    "    \"random_skew\": True,\n",
    "    \"distorsion_type\": 1,\n",
    "    \"distorsion_orientation\": 2,\n",
    "    \"blur\": 0,\n",
    "    \"random_blur\": False,\n",
    "    \"background_type\": 0\n",
    "}\n",
    "\n",
    "random.shuffle(my_corpus)\n",
    "\n",
    "generate_images_parallel(my_corpus[:10_000], output_dir, dataset_type, image_params)"
   ],
   "id": "6923bc13526377eb"
  },
  {
   "metadata": {},
   "cell_type": "markdown",
   "source": "### 4. (distorsion_type: 2, distorsion_orientation: 0)",
   "id": "3ca2cb364db1a5a1"
  },
  {
   "metadata": {},
   "cell_type": "code",
   "outputs": [],
   "execution_count": null,
   "source": [
    "image_params = {\n",
    "    \"skewing_angle\": 5,\n",
    "    \"random_skew\": True,\n",
    "    \"distorsion_type\": 2,\n",
    "    \"distorsion_orientation\": 0,\n",
    "    \"blur\": 0,\n",
    "    \"random_blur\": False,\n",
    "    \"background_type\": 0\n",
    "}\n",
    "\n",
    "random.shuffle(my_corpus)\n",
    "\n",
    "generate_images_parallel(my_corpus[:10_000], output_dir, dataset_type, image_params)"
   ],
   "id": "1345f80bfe948664"
  },
  {
   "metadata": {},
   "cell_type": "markdown",
   "source": "### 5. (distorsion_type: 2, distorsion_orientation: 1)",
   "id": "4011321d499d44aa"
  },
  {
   "metadata": {},
   "cell_type": "code",
   "outputs": [],
   "execution_count": null,
   "source": [
    "image_params = {\n",
    "    \"skewing_angle\": 5,\n",
    "    \"random_skew\": True,\n",
    "    \"distorsion_type\": 2,\n",
    "    \"distorsion_orientation\": 1,\n",
    "    \"blur\": 0,\n",
    "    \"random_blur\": False,\n",
    "    \"background_type\": 0\n",
    "}\n",
    "\n",
    "random.shuffle(my_corpus)\n",
    "\n",
    "generate_images_parallel(my_corpus[:10_000], output_dir, dataset_type, image_params)"
   ],
   "id": "b1f9e699c6552e29"
  },
  {
   "metadata": {},
   "cell_type": "markdown",
   "source": "### 6. (distorsion_type: 2, distorsion_orientation: 2)",
   "id": "e6a4a2934cb68acf"
  },
  {
   "metadata": {},
   "cell_type": "code",
   "outputs": [],
   "execution_count": null,
   "source": [
    "image_params = {\n",
    "    \"skewing_angle\": 5,\n",
    "    \"random_skew\": True,\n",
    "    \"distorsion_type\": 2,\n",
    "    \"distorsion_orientation\": 2,\n",
    "    \"blur\": 0,\n",
    "    \"random_blur\": False,\n",
    "    \"background_type\": 0\n",
    "}\n",
    "\n",
    "random.shuffle(my_corpus)\n",
    "\n",
    "generate_images_parallel(my_corpus[:10_000], output_dir, dataset_type, image_params)"
   ],
   "id": "abcd0548de0ffd67"
  },
  {
   "metadata": {},
   "cell_type": "markdown",
   "source": "### 7. (distorsion_type: 3, distorsion_orientation: 0)",
   "id": "5100cf7c0b49d0f4"
  },
  {
   "metadata": {},
   "cell_type": "code",
   "outputs": [],
   "execution_count": null,
   "source": [
    "image_params = {\n",
    "    \"skewing_angle\": 5,\n",
    "    \"random_skew\": True,\n",
    "    \"distorsion_type\": 3,\n",
    "    \"distorsion_orientation\": 0,\n",
    "    \"blur\": 0,\n",
    "    \"random_blur\": False,\n",
    "    \"background_type\": 0\n",
    "}\n",
    "\n",
    "random.shuffle(my_corpus)\n",
    "\n",
    "generate_images_parallel(my_corpus[:10_000], output_dir, dataset_type, image_params)"
   ],
   "id": "d5b784f5f427cdf6"
  },
  {
   "metadata": {},
   "cell_type": "markdown",
   "source": "### 8. (distorsion_type: 3, distorsion_orientation: 1)",
   "id": "e7a1a57ffee2d53d"
  },
  {
   "metadata": {},
   "cell_type": "code",
   "outputs": [],
   "execution_count": null,
   "source": [
    "image_params = {\n",
    "    \"skewing_angle\": 5,\n",
    "    \"random_skew\": True,\n",
    "    \"distorsion_type\": 3,\n",
    "    \"distorsion_orientation\": 1,\n",
    "    \"blur\": 0,\n",
    "    \"random_blur\": False,\n",
    "    \"background_type\": 0\n",
    "}\n",
    "\n",
    "random.shuffle(my_corpus)\n",
    "\n",
    "generate_images_parallel(my_corpus[:10_000], output_dir, dataset_type, image_params)"
   ],
   "id": "4b7f955a210e603b"
  },
  {
   "metadata": {},
   "cell_type": "markdown",
   "source": "### 9. (distorsion_type: 3, distorsion_orientation: 2)",
   "id": "2cd2d34cdecdf039"
  },
  {
   "metadata": {},
   "cell_type": "code",
   "outputs": [],
   "execution_count": null,
   "source": [
    "image_params = {\n",
    "    \"skewing_angle\": 5,\n",
    "    \"random_skew\": True,\n",
    "    \"distorsion_type\": 3,\n",
    "    \"distorsion_orientation\": 2,\n",
    "    \"blur\": 0,\n",
    "    \"random_blur\": False,\n",
    "    \"background_type\": 0\n",
    "}\n",
    "\n",
    "random.shuffle(my_corpus)\n",
    "\n",
    "generate_images_parallel(my_corpus[:10_000], output_dir, dataset_type, image_params)"
   ],
   "id": "f843373c818300d6"
  },
  {
   "metadata": {},
   "cell_type": "code",
   "outputs": [],
   "execution_count": null,
   "source": "",
   "id": "afc527e553dd26f1"
  },
  {
   "metadata": {},
   "cell_type": "markdown",
   "source": "## Blur Images",
   "id": "3201828f6e84a0c0"
  },
  {
   "metadata": {},
   "cell_type": "markdown",
   "source": "### 1. (blur: 0)",
   "id": "a638008a143903a4"
  },
  {
   "metadata": {},
   "cell_type": "code",
   "outputs": [],
   "execution_count": null,
   "source": [
    "image_params = {\n",
    "    \"skewing_angle\": 0,\n",
    "    \"random_skew\": False,\n",
    "    \"distorsion_type\": 0,\n",
    "    \"distorsion_orientation\": 0,\n",
    "    \"blur\": 0,\n",
    "    \"random_blur\": False,\n",
    "    \"background_type\": 0\n",
    "}\n",
    "\n",
    "with open(\"data/my_corpus_train.txt\") as file:\n",
    "    my_corpus = file.read().split(\"\\n\")\n",
    "\n",
    "random.shuffle(my_corpus)\n",
    "\n",
    "generate_images_parallel(my_corpus[:25_000], output_dir, dataset_type, image_params)"
   ],
   "id": "fd1d31b6d94a4ae1"
  },
  {
   "metadata": {},
   "cell_type": "code",
   "outputs": [],
   "execution_count": null,
   "source": "",
   "id": "1b9b5d4e338ad15"
  },
  {
   "metadata": {},
   "cell_type": "markdown",
   "source": "### 2. (blur: 1)",
   "id": "32e1d38273b64392"
  },
  {
   "metadata": {},
   "cell_type": "code",
   "outputs": [],
   "execution_count": null,
   "source": [
    "image_params = {\n",
    "    \"skewing_angle\": 0,\n",
    "    \"random_skew\": False,\n",
    "    \"distorsion_type\": 0,\n",
    "    \"distorsion_orientation\": 0,\n",
    "    \"blur\": 1,\n",
    "    \"random_blur\": False,\n",
    "    \"background_type\": 0\n",
    "}\n",
    "\n",
    "with open(\"data/my_corpus_train.txt\") as file:\n",
    "    my_corpus = file.read().split(\"\\n\")\n",
    "\n",
    "random.shuffle(my_corpus)\n",
    "\n",
    "generate_images_parallel(my_corpus[:25_000], output_dir, dataset_type, image_params)"
   ],
   "id": "695c5a2cba2a158"
  },
  {
   "metadata": {},
   "cell_type": "markdown",
   "source": "### 3. (blur: 2)",
   "id": "b582c15c336c8e71"
  },
  {
   "metadata": {},
   "cell_type": "code",
   "outputs": [],
   "execution_count": null,
   "source": [
    "image_params = {\n",
    "    \"skewing_angle\": 0,\n",
    "    \"random_skew\": False,\n",
    "    \"distorsion_type\": 0,\n",
    "    \"distorsion_orientation\": 0,\n",
    "    \"blur\": 2,\n",
    "    \"random_blur\": False,\n",
    "    \"background_type\": 0\n",
    "}\n",
    "\n",
    "with open(\"data/my_corpus_train.txt\") as file:\n",
    "    my_corpus = file.read().split(\"\\n\")\n",
    "\n",
    "random.shuffle(my_corpus)\n",
    "\n",
    "generate_images_parallel(my_corpus[:25_000], output_dir, dataset_type, image_params)"
   ],
   "id": "4ff8ce8103a0d006"
  },
  {
   "metadata": {},
   "cell_type": "markdown",
   "source": "### 4. (blur: 4)",
   "id": "67cc4858be8970f1"
  },
  {
   "metadata": {},
   "cell_type": "code",
   "outputs": [],
   "execution_count": null,
   "source": [
    "image_params = {\n",
    "    \"skewing_angle\": 0,\n",
    "    \"random_skew\": False,\n",
    "    \"distorsion_type\": 0,\n",
    "    \"distorsion_orientation\": 0,\n",
    "    \"blur\": 4,\n",
    "    \"random_blur\": False,\n",
    "    \"background_type\": 0\n",
    "}\n",
    "\n",
    "with open(\"data/my_corpus_train.txt\") as file:\n",
    "    my_corpus = file.read().split(\"\\n\")\n",
    "\n",
    "random.shuffle(my_corpus)\n",
    "\n",
    "generate_images_parallel(my_corpus[:25_000], output_dir, dataset_type, image_params)"
   ],
   "id": "195c1174b66aba11"
  },
  {
   "metadata": {},
   "cell_type": "code",
   "outputs": [],
   "execution_count": null,
   "source": "",
   "id": "c9a53323165e00df"
  },
  {
   "metadata": {},
   "cell_type": "code",
   "outputs": [],
   "execution_count": null,
   "source": "",
   "id": "309fcd20b253305b"
  },
  {
   "metadata": {},
   "cell_type": "markdown",
   "source": "## Background Images",
   "id": "fda7daf2dbc8cd6"
  },
  {
   "metadata": {},
   "cell_type": "markdown",
   "source": "### 1. (background_type: 0)",
   "id": "cb575378b641dd0a"
  },
  {
   "metadata": {},
   "cell_type": "code",
   "outputs": [],
   "execution_count": null,
   "source": [
    "image_params = {\n",
    "    \"skewing_angle\": 0,\n",
    "    \"random_skew\": False,\n",
    "    \"distorsion_type\": 0,\n",
    "    \"distorsion_orientation\": 0,\n",
    "    \"blur\": 0,\n",
    "    \"random_blur\": False,\n",
    "    \"background_type\": 0\n",
    "}\n",
    "\n",
    "with open(\"data/my_corpus_train.txt\") as file:\n",
    "    my_corpus = file.read().split(\"\\n\")\n",
    "\n",
    "random.shuffle(my_corpus)\n",
    "\n",
    "generate_images_parallel(my_corpus[:25_000], output_dir, dataset_type, image_params)"
   ],
   "id": "cf6558b6a3d270e2"
  },
  {
   "metadata": {},
   "cell_type": "code",
   "outputs": [],
   "source": "",
   "id": "46f6faf3fb047e13",
   "execution_count": null
  },
  {
   "metadata": {},
   "cell_type": "markdown",
   "source": "### 2. (background_type: 1)",
   "id": "a58f563439d6d8a5"
  },
  {
   "metadata": {},
   "cell_type": "code",
   "outputs": [],
   "execution_count": null,
   "source": [
    "image_params = {\n",
    "    \"skewing_angle\": 0,\n",
    "    \"random_skew\": False,\n",
    "    \"distorsion_type\": 0,\n",
    "    \"distorsion_orientation\": 0,\n",
    "    \"blur\": 0,\n",
    "    \"random_blur\": False,\n",
    "    \"background_type\": 1\n",
    "}\n",
    "\n",
    "with open(\"data/my_corpus_train.txt\") as file:\n",
    "    my_corpus = file.read().split(\"\\n\")\n",
    "\n",
    "random.shuffle(my_corpus)\n",
    "\n",
    "generate_images_parallel(my_corpus[:25_000], output_dir, dataset_type, image_params)"
   ],
   "id": "fafc4e9804e10867"
  },
  {
   "metadata": {},
   "cell_type": "markdown",
   "source": "### 3. (background_type: 2)",
   "id": "338083604276e259"
  },
  {
   "metadata": {},
   "cell_type": "code",
   "outputs": [],
   "execution_count": null,
   "source": [
    "image_params = {\n",
    "    \"skewing_angle\": 0,\n",
    "    \"random_skew\": False,\n",
    "    \"distorsion_type\": 0,\n",
    "    \"distorsion_orientation\": 0,\n",
    "    \"blur\": 0,\n",
    "    \"random_blur\": False,\n",
    "    \"background_type\": 2\n",
    "}\n",
    "\n",
    "with open(\"data/my_corpus_train.txt\") as file:\n",
    "    my_corpus = file.read().split(\"\\n\")\n",
    "\n",
    "random.shuffle(my_corpus)\n",
    "\n",
    "generate_images_parallel(my_corpus[:25_000], output_dir, dataset_type, image_params)"
   ],
   "id": "ed95cbe85f26dba"
  },
  {
   "metadata": {},
   "cell_type": "markdown",
   "source": "### 4. (background_type: 3)",
   "id": "35241963f3ec8524"
  },
  {
   "metadata": {},
   "cell_type": "code",
   "outputs": [],
   "execution_count": null,
   "source": [
    "image_params = {\n",
    "    \"skewing_angle\": 0,\n",
    "    \"random_skew\": False,\n",
    "    \"distorsion_type\": 0,\n",
    "    \"distorsion_orientation\": 0,\n",
    "    \"blur\": 0,\n",
    "    \"random_blur\": False,\n",
    "    \"background_type\": 3\n",
    "}\n",
    "\n",
    "with open(\"data/my_corpus_train.txt\") as file:\n",
    "    my_corpus = file.read().split(\"\\n\")\n",
    "\n",
    "random.shuffle(my_corpus)\n",
    "\n",
    "generate_images_parallel(my_corpus[:25_000], output_dir, dataset_type, image_params)"
   ],
   "id": "e4f0f15a3975f525"
  },
  {
   "metadata": {},
   "cell_type": "code",
   "outputs": [],
   "source": "",
   "id": "4fc4c13fc971f4c1",
   "execution_count": null
  },
  {
   "metadata": {},
   "cell_type": "code",
   "outputs": [],
   "execution_count": null,
   "source": "",
   "id": "bd21d38bfcdc92e5"
  },
  {
   "metadata": {},
   "cell_type": "markdown",
   "source": "# Generate Test Images",
   "id": "b2455949b4d81e2d"
  },
  {
   "metadata": {
    "ExecuteTime": {
     "end_time": "2025-03-26T14:37:37.308323Z",
     "start_time": "2025-03-26T14:37:37.305799Z"
    }
   },
   "cell_type": "code",
   "outputs": [],
   "execution_count": 15,
   "source": [
    "dataset_type = \"test\"\n",
    "output_dir = root_dir + f\"/{dataset_type}\"\n",
    "os.makedirs(root_dir, exist_ok=True)\n",
    "os.makedirs(output_dir, exist_ok=True)\n",
    "\n",
    "# Path for annotations file\n",
    "annotations_file = os.path.join(root_dir, f\"{dataset_type}.txt\")\n",
    "\n",
    "# Clear annotations file if it exists\n",
    "with open(annotations_file, 'w') as f:\n",
    "    pass\n",
    "\n",
    "with open(\"data/my_corpus_test.txt\") as file:\n",
    "    my_corpus = file.read().split(\"\\n\")"
   ],
   "id": "94137bead16978ee"
  },
  {
   "metadata": {},
   "cell_type": "markdown",
   "source": "## Simple Images",
   "id": "69fd47c22c84aea6"
  },
  {
   "metadata": {},
   "cell_type": "code",
   "outputs": [],
   "execution_count": null,
   "source": [
    "image_params = {\n",
    "    \"skewing_angle\": 0,\n",
    "    \"random_skew\": False,\n",
    "    \"distorsion_type\": 0,\n",
    "    \"distorsion_orientation\": 0,\n",
    "    \"blur\": 0,\n",
    "    \"random_blur\": False,\n",
    "    \"background_type\": 0\n",
    "}\n",
    "\n",
    "generate_images_parallel(my_corpus, output_dir, dataset_type, image_params)"
   ],
   "id": "4b871fb29dd24d01"
  },
  {
   "metadata": {},
   "cell_type": "markdown",
   "source": "## Skew Images",
   "id": "69661a85bc7a4072"
  },
  {
   "metadata": {},
   "cell_type": "code",
   "outputs": [],
   "execution_count": null,
   "source": [
    "image_params = {\n",
    "    \"skewing_angle\": 5,\n",
    "    \"random_skew\": True,\n",
    "    \"distorsion_type\": 0,\n",
    "    \"distorsion_orientation\": 0,\n",
    "    \"blur\": 0,\n",
    "    \"random_blur\": False,\n",
    "    \"background_type\": 0\n",
    "}\n",
    "\n",
    "random.shuffle(my_corpus)\n",
    "\n",
    "generate_images_parallel(my_corpus[:10_000], output_dir, dataset_type, image_params)"
   ],
   "id": "78bec25dae0b9be8"
  },
  {
   "metadata": {},
   "cell_type": "code",
   "outputs": [],
   "source": "",
   "id": "1bfd36b5855eacc2",
   "execution_count": null
  },
  {
   "metadata": {},
   "cell_type": "markdown",
   "source": "## Distorsion Images",
   "id": "7754c1502f26a9a7"
  },
  {
   "metadata": {},
   "cell_type": "markdown",
   "source": "### 1. (distorsion_type: 1, distorsion_orientation: 0)",
   "id": "56e55bdf3a87f009"
  },
  {
   "metadata": {},
   "cell_type": "code",
   "outputs": [],
   "execution_count": null,
   "source": [
    "image_params = {\n",
    "    \"skewing_angle\": 5,\n",
    "    \"random_skew\": True,\n",
    "    \"distorsion_type\": 1,\n",
    "    \"distorsion_orientation\": 0,\n",
    "    \"blur\": 0,\n",
    "    \"random_blur\": False,\n",
    "    \"background_type\": 0\n",
    "}\n",
    "\n",
    "random.shuffle(my_corpus)\n",
    "\n",
    "generate_images_parallel(my_corpus[:1_000], output_dir, dataset_type, image_params)"
   ],
   "id": "da2f0c3158911563"
  },
  {
   "metadata": {},
   "cell_type": "markdown",
   "source": "### 2. (distorsion_type: 1, distorsion_orientation: 1)",
   "id": "76cc7f71661ecc96"
  },
  {
   "metadata": {},
   "cell_type": "code",
   "outputs": [],
   "execution_count": null,
   "source": [
    "image_params = {\n",
    "    \"skewing_angle\": 5,\n",
    "    \"random_skew\": True,\n",
    "    \"distorsion_type\": 1,\n",
    "    \"distorsion_orientation\": 1,\n",
    "    \"blur\": 0,\n",
    "    \"random_blur\": False,\n",
    "    \"background_type\": 0\n",
    "}\n",
    "\n",
    "random.shuffle(my_corpus)\n",
    "\n",
    "generate_images_parallel(my_corpus[:1_000], output_dir, dataset_type, image_params)"
   ],
   "id": "67b0468901aad5d1"
  },
  {
   "metadata": {},
   "cell_type": "markdown",
   "source": "### 3. (distorsion_type: 1, distorsion_orientation: 2)",
   "id": "75d2b6de70398155"
  },
  {
   "metadata": {},
   "cell_type": "code",
   "outputs": [],
   "execution_count": null,
   "source": [
    "image_params = {\n",
    "    \"skewing_angle\": 5,\n",
    "    \"random_skew\": True,\n",
    "    \"distorsion_type\": 1,\n",
    "    \"distorsion_orientation\": 2,\n",
    "    \"blur\": 0,\n",
    "    \"random_blur\": False,\n",
    "    \"background_type\": 0\n",
    "}\n",
    "\n",
    "random.shuffle(my_corpus)\n",
    "\n",
    "generate_images_parallel(my_corpus[:1_000], output_dir, dataset_type, image_params)"
   ],
   "id": "b2090c83a4bd7c0e"
  },
  {
   "metadata": {},
   "cell_type": "markdown",
   "source": "### 4. (distorsion_type: 2, distorsion_orientation: 0)",
   "id": "5d3b0192d07f6a66"
  },
  {
   "metadata": {},
   "cell_type": "code",
   "outputs": [],
   "execution_count": null,
   "source": [
    "image_params = {\n",
    "    \"skewing_angle\": 5,\n",
    "    \"random_skew\": True,\n",
    "    \"distorsion_type\": 2,\n",
    "    \"distorsion_orientation\": 0,\n",
    "    \"blur\": 0,\n",
    "    \"random_blur\": False,\n",
    "    \"background_type\": 0\n",
    "}\n",
    "\n",
    "random.shuffle(my_corpus)\n",
    "\n",
    "generate_images_parallel(my_corpus[:1_000], output_dir, dataset_type, image_params)"
   ],
   "id": "43ff1a2d325e0ff0"
  },
  {
   "metadata": {},
   "cell_type": "markdown",
   "source": "### 5. (distorsion_type: 2, distorsion_orientation: 1)",
   "id": "d8e916def04329ac"
  },
  {
   "metadata": {},
   "cell_type": "code",
   "outputs": [],
   "execution_count": null,
   "source": [
    "image_params = {\n",
    "    \"skewing_angle\": 5,\n",
    "    \"random_skew\": True,\n",
    "    \"distorsion_type\": 2,\n",
    "    \"distorsion_orientation\": 1,\n",
    "    \"blur\": 0,\n",
    "    \"random_blur\": False,\n",
    "    \"background_type\": 0\n",
    "}\n",
    "\n",
    "random.shuffle(my_corpus)\n",
    "\n",
    "generate_images_parallel(my_corpus[:1_000], output_dir, dataset_type, image_params)"
   ],
   "id": "6a1c48e99d6825be"
  },
  {
   "metadata": {},
   "cell_type": "markdown",
   "source": "### 6. (distorsion_type: 2, distorsion_orientation: 2)",
   "id": "b01fc0ca91648b09"
  },
  {
   "metadata": {},
   "cell_type": "code",
   "outputs": [],
   "execution_count": null,
   "source": [
    "image_params = {\n",
    "    \"skewing_angle\": 5,\n",
    "    \"random_skew\": True,\n",
    "    \"distorsion_type\": 2,\n",
    "    \"distorsion_orientation\": 2,\n",
    "    \"blur\": 0,\n",
    "    \"random_blur\": False,\n",
    "    \"background_type\": 0\n",
    "}\n",
    "\n",
    "random.shuffle(my_corpus)\n",
    "\n",
    "generate_images_parallel(my_corpus[:1_000], output_dir, dataset_type, image_params)"
   ],
   "id": "cc279b2df229f44a"
  },
  {
   "metadata": {},
   "cell_type": "markdown",
   "source": "### 7. (distorsion_type: 3, distorsion_orientation: 0)",
   "id": "d143a49a62853930"
  },
  {
   "metadata": {},
   "cell_type": "code",
   "outputs": [],
   "execution_count": null,
   "source": [
    "image_params = {\n",
    "    \"skewing_angle\": 5,\n",
    "    \"random_skew\": True,\n",
    "    \"distorsion_type\": 3,\n",
    "    \"distorsion_orientation\": 0,\n",
    "    \"blur\": 0,\n",
    "    \"random_blur\": False,\n",
    "    \"background_type\": 0\n",
    "}\n",
    "\n",
    "random.shuffle(my_corpus)\n",
    "\n",
    "generate_images_parallel(my_corpus[:1_000], output_dir, dataset_type, image_params)"
   ],
   "id": "b29b66da4b139848"
  },
  {
   "metadata": {},
   "cell_type": "markdown",
   "source": "### 8. (distorsion_type: 3, distorsion_orientation: 1)",
   "id": "acfb41af2691f98e"
  },
  {
   "metadata": {},
   "cell_type": "code",
   "outputs": [],
   "execution_count": null,
   "source": [
    "image_params = {\n",
    "    \"skewing_angle\": 5,\n",
    "    \"random_skew\": True,\n",
    "    \"distorsion_type\": 3,\n",
    "    \"distorsion_orientation\": 1,\n",
    "    \"blur\": 0,\n",
    "    \"random_blur\": False,\n",
    "    \"background_type\": 0\n",
    "}\n",
    "\n",
    "random.shuffle(my_corpus)\n",
    "\n",
    "generate_images_parallel(my_corpus[:1_000], output_dir, dataset_type, image_params)"
   ],
   "id": "e3a727d0e0933340"
  },
  {
   "metadata": {},
   "cell_type": "markdown",
   "source": "### 9. (distorsion_type: 3, distorsion_orientation: 2)",
   "id": "3be86f0fb6ed27d"
  },
  {
   "metadata": {},
   "cell_type": "code",
   "outputs": [],
   "execution_count": null,
   "source": [
    "image_params = {\n",
    "    \"skewing_angle\": 5,\n",
    "    \"random_skew\": True,\n",
    "    \"distorsion_type\": 3,\n",
    "    \"distorsion_orientation\": 2,\n",
    "    \"blur\": 0,\n",
    "    \"random_blur\": False,\n",
    "    \"background_type\": 0\n",
    "}\n",
    "\n",
    "random.shuffle(my_corpus)\n",
    "\n",
    "generate_images_parallel(my_corpus[:1_000], output_dir, dataset_type, image_params)"
   ],
   "id": "fb5fbc469751a90"
  },
  {
   "metadata": {},
   "cell_type": "code",
   "outputs": [],
   "source": "",
   "id": "8b6c2dce6c0f5c45",
   "execution_count": null
  },
  {
   "metadata": {},
   "cell_type": "markdown",
   "source": "## Blur Images",
   "id": "7e48e95724b4cf51"
  },
  {
   "metadata": {},
   "cell_type": "markdown",
   "source": "### 1. (blur: 0)",
   "id": "8d22289bf3f4d769"
  },
  {
   "metadata": {},
   "cell_type": "code",
   "outputs": [],
   "execution_count": null,
   "source": [
    "image_params = {\n",
    "    \"skewing_angle\": 0,\n",
    "    \"random_skew\": False,\n",
    "    \"distorsion_type\": 0,\n",
    "    \"distorsion_orientation\": 0,\n",
    "    \"blur\": 0,\n",
    "    \"random_blur\": False,\n",
    "    \"background_type\": 0\n",
    "}\n",
    "\n",
    "with open(\"data/my_corpus_train.txt\") as file:\n",
    "    my_corpus = file.read().split(\"\\n\")\n",
    "\n",
    "random.shuffle(my_corpus)\n",
    "\n",
    "generate_images_parallel(my_corpus[:2_500], output_dir, dataset_type, image_params)"
   ],
   "id": "8286a30ff73774c8"
  },
  {
   "metadata": {},
   "cell_type": "code",
   "outputs": [],
   "source": "",
   "id": "ced175e403abc5d8",
   "execution_count": null
  },
  {
   "metadata": {},
   "cell_type": "markdown",
   "source": "### 2. (blur: 1)",
   "id": "2aa6f37d178935a5"
  },
  {
   "metadata": {},
   "cell_type": "code",
   "outputs": [],
   "execution_count": null,
   "source": [
    "image_params = {\n",
    "    \"skewing_angle\": 0,\n",
    "    \"random_skew\": False,\n",
    "    \"distorsion_type\": 0,\n",
    "    \"distorsion_orientation\": 0,\n",
    "    \"blur\": 1,\n",
    "    \"random_blur\": False,\n",
    "    \"background_type\": 0\n",
    "}\n",
    "\n",
    "with open(\"data/my_corpus_train.txt\") as file:\n",
    "    my_corpus = file.read().split(\"\\n\")\n",
    "\n",
    "random.shuffle(my_corpus)\n",
    "\n",
    "generate_images_parallel(my_corpus[:2_500], output_dir, dataset_type, image_params)"
   ],
   "id": "ffb5e2e6a6d5f536"
  },
  {
   "metadata": {},
   "cell_type": "markdown",
   "source": "### 3. (blur: 2)",
   "id": "83b0eeb72466652d"
  },
  {
   "metadata": {},
   "cell_type": "code",
   "outputs": [],
   "execution_count": null,
   "source": [
    "image_params = {\n",
    "    \"skewing_angle\": 0,\n",
    "    \"random_skew\": False,\n",
    "    \"distorsion_type\": 0,\n",
    "    \"distorsion_orientation\": 0,\n",
    "    \"blur\": 2,\n",
    "    \"random_blur\": False,\n",
    "    \"background_type\": 0\n",
    "}\n",
    "\n",
    "with open(\"data/my_corpus_train.txt\") as file:\n",
    "    my_corpus = file.read().split(\"\\n\")\n",
    "\n",
    "random.shuffle(my_corpus)\n",
    "\n",
    "generate_images_parallel(my_corpus[:2_500], output_dir, dataset_type, image_params)"
   ],
   "id": "b31afd560820f207"
  },
  {
   "metadata": {},
   "cell_type": "markdown",
   "source": "### 4. (blur: 4)",
   "id": "c8f23c972b620151"
  },
  {
   "metadata": {},
   "cell_type": "code",
   "outputs": [],
   "execution_count": null,
   "source": [
    "image_params = {\n",
    "    \"skewing_angle\": 0,\n",
    "    \"random_skew\": False,\n",
    "    \"distorsion_type\": 0,\n",
    "    \"distorsion_orientation\": 0,\n",
    "    \"blur\": 4,\n",
    "    \"random_blur\": False,\n",
    "    \"background_type\": 0\n",
    "}\n",
    "\n",
    "with open(\"data/my_corpus_train.txt\") as file:\n",
    "    my_corpus = file.read().split(\"\\n\")\n",
    "\n",
    "random.shuffle(my_corpus)\n",
    "\n",
    "generate_images_parallel(my_corpus[:2_500], output_dir, dataset_type, image_params)"
   ],
   "id": "39a86d769e12a714"
  },
  {
   "metadata": {},
   "cell_type": "code",
   "outputs": [],
   "source": "",
   "id": "673412db7b27248e",
   "execution_count": null
  },
  {
   "metadata": {},
   "cell_type": "code",
   "outputs": [],
   "source": "",
   "id": "cc6c2b70b29ef2e",
   "execution_count": null
  },
  {
   "metadata": {},
   "cell_type": "markdown",
   "source": "## Background Images",
   "id": "1ad7a35bd887a02e"
  },
  {
   "metadata": {},
   "cell_type": "markdown",
   "source": "### 1. (background_type: 0)",
   "id": "a806b12343e67eb4"
  },
  {
   "metadata": {},
   "cell_type": "code",
   "outputs": [],
   "execution_count": null,
   "source": [
    "image_params = {\n",
    "    \"skewing_angle\": 0,\n",
    "    \"random_skew\": False,\n",
    "    \"distorsion_type\": 0,\n",
    "    \"distorsion_orientation\": 0,\n",
    "    \"blur\": 0,\n",
    "    \"random_blur\": False,\n",
    "    \"background_type\": 0\n",
    "}\n",
    "\n",
    "with open(\"data/my_corpus_train.txt\") as file:\n",
    "    my_corpus = file.read().split(\"\\n\")\n",
    "\n",
    "random.shuffle(my_corpus)\n",
    "\n",
    "generate_images_parallel(my_corpus[:2_500], output_dir, dataset_type, image_params)"
   ],
   "id": "e0d342553624c20d"
  },
  {
   "metadata": {},
   "cell_type": "code",
   "outputs": [],
   "source": "",
   "id": "5fc5c293a97ac229",
   "execution_count": null
  },
  {
   "metadata": {},
   "cell_type": "markdown",
   "source": "### 2. (background_type: 1)",
   "id": "686cf92b96248e80"
  },
  {
   "metadata": {},
   "cell_type": "code",
   "outputs": [],
   "execution_count": null,
   "source": [
    "image_params = {\n",
    "    \"skewing_angle\": 0,\n",
    "    \"random_skew\": False,\n",
    "    \"distorsion_type\": 0,\n",
    "    \"distorsion_orientation\": 0,\n",
    "    \"blur\": 0,\n",
    "    \"random_blur\": False,\n",
    "    \"background_type\": 1\n",
    "}\n",
    "\n",
    "with open(\"data/my_corpus_train.txt\") as file:\n",
    "    my_corpus = file.read().split(\"\\n\")\n",
    "\n",
    "random.shuffle(my_corpus)\n",
    "\n",
    "generate_images_parallel(my_corpus[:2_500], output_dir, dataset_type, image_params)"
   ],
   "id": "788480469aab2ccc"
  },
  {
   "metadata": {},
   "cell_type": "markdown",
   "source": "### 3. (background_type: 2)",
   "id": "ddc84adafb2ccfb8"
  },
  {
   "metadata": {},
   "cell_type": "code",
   "outputs": [],
   "execution_count": null,
   "source": [
    "image_params = {\n",
    "    \"skewing_angle\": 0,\n",
    "    \"random_skew\": False,\n",
    "    \"distorsion_type\": 0,\n",
    "    \"distorsion_orientation\": 0,\n",
    "    \"blur\": 0,\n",
    "    \"random_blur\": False,\n",
    "    \"background_type\": 2\n",
    "}\n",
    "\n",
    "with open(\"data/my_corpus_train.txt\") as file:\n",
    "    my_corpus = file.read().split(\"\\n\")\n",
    "\n",
    "random.shuffle(my_corpus)\n",
    "\n",
    "generate_images_parallel(my_corpus[:2_500], output_dir, dataset_type, image_params)"
   ],
   "id": "379853d1125e873b"
  },
  {
   "metadata": {},
   "cell_type": "markdown",
   "source": "### 4. (background_type: 3)",
   "id": "e75f03337314bf04"
  },
  {
   "metadata": {},
   "cell_type": "code",
   "outputs": [],
   "execution_count": null,
   "source": [
    "image_params = {\n",
    "    \"skewing_angle\": 0,\n",
    "    \"random_skew\": False,\n",
    "    \"distorsion_type\": 0,\n",
    "    \"distorsion_orientation\": 0,\n",
    "    \"blur\": 0,\n",
    "    \"random_blur\": False,\n",
    "    \"background_type\": 3\n",
    "}\n",
    "\n",
    "with open(\"data/my_corpus_train.txt\") as file:\n",
    "    my_corpus = file.read().split(\"\\n\")\n",
    "\n",
    "random.shuffle(my_corpus)\n",
    "\n",
    "generate_images_parallel(my_corpus[:2_500], output_dir, dataset_type, image_params)"
   ],
   "id": "ae97eb6289551eae"
  },
  {
   "metadata": {},
   "cell_type": "code",
   "outputs": [],
   "source": "",
   "id": "1c847522e71712eb",
   "execution_count": null
  },
  {
   "metadata": {
    "ExecuteTime": {
     "end_time": "2025-03-26T14:33:59.253094Z",
     "start_time": "2025-03-26T14:33:59.251360Z"
    }
   },
   "cell_type": "code",
   "source": "",
   "id": "b3b5e1101cc3ecf1",
   "outputs": [],
   "execution_count": 8
  },
  {
   "metadata": {},
   "cell_type": "code",
   "outputs": [],
   "execution_count": null,
   "source": "",
   "id": "86265a77a7be0522"
  }
 ],
 "metadata": {
  "kernelspec": {
   "display_name": "Python 3",
   "language": "python",
   "name": "python3"
  },
  "language_info": {
   "codemirror_mode": {
    "name": "ipython",
    "version": 2
   },
   "file_extension": ".py",
   "mimetype": "text/x-python",
   "name": "python",
   "nbconvert_exporter": "python",
   "pygments_lexer": "ipython2",
   "version": "2.7.6"
  }
 },
 "nbformat": 4,
 "nbformat_minor": 5
}
