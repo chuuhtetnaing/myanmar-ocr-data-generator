{
 "cells": [
  {
   "cell_type": "code",
   "id": "initial_id",
   "metadata": {
    "collapsed": true,
    "ExecuteTime": {
     "end_time": "2025-03-27T07:02:25.875737Z",
     "start_time": "2025-03-27T07:02:25.221560Z"
    }
   },
   "source": "from datasets import load_dataset",
   "outputs": [],
   "execution_count": 1
  },
  {
   "metadata": {
    "ExecuteTime": {
     "start_time": "2025-03-27T07:02:26.432901Z"
    }
   },
   "cell_type": "code",
   "source": "dataset = load_dataset(\"audiofolder\", data_dir=\"dataset\", num_proc=10)",
   "id": "2faaf5ab10daa96",
   "outputs": [],
   "execution_count": null
  },
  {
   "metadata": {},
   "cell_type": "code",
   "outputs": [],
   "execution_count": null,
   "source": "dataset.push_to_hub(\"chuuhtetnaing/myanmar-ocr-dataset\")",
   "id": "649b33d595e24f2f"
  },
  {
   "metadata": {},
   "cell_type": "code",
   "outputs": [],
   "execution_count": null,
   "source": "",
   "id": "2d631baff5fd1b01"
  }
 ],
 "metadata": {
  "kernelspec": {
   "display_name": "Python 3",
   "language": "python",
   "name": "python3"
  },
  "language_info": {
   "codemirror_mode": {
    "name": "ipython",
    "version": 2
   },
   "file_extension": ".py",
   "mimetype": "text/x-python",
   "name": "python",
   "nbconvert_exporter": "python",
   "pygments_lexer": "ipython2",
   "version": "2.7.6"
  }
 },
 "nbformat": 4,
 "nbformat_minor": 5
}
