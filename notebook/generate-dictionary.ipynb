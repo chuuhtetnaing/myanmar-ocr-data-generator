{
 "cells": [
  {
   "cell_type": "code",
   "id": "initial_id",
   "metadata": {
    "collapsed": true,
    "ExecuteTime": {
     "end_time": "2025-03-25T18:26:53.830099Z",
     "start_time": "2025-03-25T18:26:53.360242Z"
    }
   },
   "source": [
    "from datasets import load_dataset\n",
    "import itertools\n",
    "import json"
   ],
   "outputs": [],
   "execution_count": 1
  },
  {
   "metadata": {
    "ExecuteTime": {
     "end_time": "2025-03-25T18:27:01.422089Z",
     "start_time": "2025-03-25T18:26:54.571267Z"
    }
   },
   "cell_type": "code",
   "source": "ds = load_dataset(\"chuuhtetnaing/myanmar-wikipedia-dataset\")",
   "id": "52717afcaecb2a15",
   "outputs": [],
   "execution_count": 2
  },
  {
   "metadata": {
    "ExecuteTime": {
     "end_time": "2025-03-25T18:27:10.463779Z",
     "start_time": "2025-03-25T18:27:01.424491Z"
    }
   },
   "cell_type": "code",
   "source": [
    "words = ds['train']['unique_mm_words']\n",
    "phrases = ds['train']['unique_mm_phrases']"
   ],
   "id": "9ee3057d0d64026a",
   "outputs": [],
   "execution_count": 3
  },
  {
   "metadata": {
    "ExecuteTime": {
     "end_time": "2025-03-25T18:27:10.471478Z",
     "start_time": "2025-03-25T18:27:10.470188Z"
    }
   },
   "cell_type": "code",
   "source": "",
   "id": "7d3e33891c64ac3a",
   "outputs": [],
   "execution_count": null
  },
  {
   "metadata": {
    "ExecuteTime": {
     "end_time": "2025-03-25T18:27:10.511410Z",
     "start_time": "2025-03-25T18:27:10.510056Z"
    }
   },
   "cell_type": "code",
   "source": "",
   "id": "b22a2c55a03d0690",
   "outputs": [],
   "execution_count": null
  },
  {
   "metadata": {
    "ExecuteTime": {
     "end_time": "2025-03-25T18:27:10.558547Z",
     "start_time": "2025-03-25T18:27:10.554337Z"
    }
   },
   "cell_type": "code",
   "source": [
    "a = [[1,2,3], [4,5,6], [7,8,9]]\n",
    "\n",
    "b = list(itertools.chain.from_iterable(a))\n",
    "b"
   ],
   "id": "f56ea259d6357ed3",
   "outputs": [
    {
     "data": {
      "text/plain": [
       "[1, 2, 3, 4, 5, 6, 7, 8, 9]"
      ]
     },
     "execution_count": 4,
     "metadata": {},
     "output_type": "execute_result"
    }
   ],
   "execution_count": 4
  },
  {
   "metadata": {
    "ExecuteTime": {
     "end_time": "2025-03-25T18:27:37.349274Z",
     "start_time": "2025-03-25T18:27:36.987446Z"
    }
   },
   "cell_type": "code",
   "source": [
    "# my_dictionary = set(list(itertools.chain.from_iterable(words)) + list(itertools.chain.from_iterable(phrases)))\n",
    "\n",
    "my_word_dictionary = list(itertools.chain.from_iterable(words))\n",
    "my_phrase_dictionary = list(itertools.chain.from_iterable(phrases))\n",
    "my_dictionary = my_word_dictionary + my_phrase_dictionary\n"
   ],
   "id": "390ba35545a83054",
   "outputs": [],
   "execution_count": 7
  },
  {
   "metadata": {
    "ExecuteTime": {
     "end_time": "2025-03-25T18:28:05.621125Z",
     "start_time": "2025-03-25T18:28:03.817116Z"
    }
   },
   "cell_type": "code",
   "source": [
    "with open(\"my_word_dict.txt\", \"w\") as file:\n",
    "    file.write(\"\\n\".join(my_word_dictionary))\n",
    "\n",
    "with open(\"my_phrase_dict.txt\", \"w\") as file:\n",
    "    file.write(\"\\n\".join(my_phrase_dictionary))\n",
    "\n",
    "with open(\"my.txt\", \"w\") as file:\n",
    "    file.write(\"\\n\".join(my_dictionary))\n"
   ],
   "id": "f121397105927ec3",
   "outputs": [],
   "execution_count": 8
  },
  {
   "metadata": {},
   "cell_type": "code",
   "outputs": [],
   "execution_count": null,
   "source": "",
   "id": "d049b9e34a24a4ea"
  }
 ],
 "metadata": {
  "kernelspec": {
   "display_name": "Python 3",
   "language": "python",
   "name": "python3"
  },
  "language_info": {
   "codemirror_mode": {
    "name": "ipython",
    "version": 2
   },
   "file_extension": ".py",
   "mimetype": "text/x-python",
   "name": "python",
   "nbconvert_exporter": "python",
   "pygments_lexer": "ipython2",
   "version": "2.7.6"
  }
 },
 "nbformat": 4,
 "nbformat_minor": 5
}
